{
  "nbformat": 4,
  "nbformat_minor": 0,
  "metadata": {
    "colab": {
      "name": "RBF - Adult income dataset ",
      "provenance": [],
      "collapsed_sections": [],
      "include_colab_link": true
    },
    "kernelspec": {
      "name": "ir",
      "display_name": "R"
    },
    "language_info": {
      "name": "R"
    }
  },
  "cells": [
    {
      "cell_type": "markdown",
      "metadata": {
        "id": "view-in-github",
        "colab_type": "text"
      },
      "source": [
        "<a href=\"https://colab.research.google.com/github/oliveirasWell/mlp/blob/master/RBF_Adult_income_dataset.ipynb\" target=\"_parent\"><img src=\"https://colab.research.google.com/assets/colab-badge.svg\" alt=\"Open In Colab\"/></a>"
      ]
    },
    {
      "cell_type": "code",
      "metadata": {
        "id": "XBcVtUoe-Br8"
      },
      "source": [
        "# Imports\n",
        "# Lib para balancear o data-set\n",
        "library(groupdata2)\n",
        "library(tidyr)\n",
        "\n",
        "# Lib para plotar dados\n",
        "install.packages(\"yardstick\")\n",
        "library(yardstick)\n",
        "library(ggplot2)\n",
        "\n",
        "# Lib para criar colunas \n",
        "install.packages(\"fastDummies\")\n",
        "library(fastDummies)"
      ],
      "execution_count": null,
      "outputs": []
    },
    {
      "cell_type": "code",
      "metadata": {
        "id": "QlZ3oVT9DhHn"
      },
      "source": [
        "# Dataset\n",
        "dados <- read.csv('sample_data/adult.data', header=FALSE, strip.white=TRUE)\n",
        "colnames(dados) <- c(\"age\",\n",
        "                     \"workclass\", \n",
        "                     \"fnlwgt\",\n",
        "                     \"education\",\n",
        "                     \"education-num\",\n",
        "                     \"marital\",\n",
        "                      \"occupation\",\n",
        "                      \"relationship\",\n",
        "                      \"race\",\n",
        "                      \"sex\", \n",
        "                      \"capital-gain\", \n",
        "                      \"capital-loss\",\n",
        "                      \"hours-per-week\",\n",
        "                      \"country\",\n",
        "                      \"income\"\n",
        ")\n",
        "\n",
        "# Ajustar classes para o algoritmo entender cada uma\n",
        "dados$income[dados$income == \"<=50K\"] <- -1\n",
        "dados$income[dados$income == \">50K\"] <- 1\n",
        "dados$income = as.integer(as.character(dados$income))\n",
        "dados$workclass[dados$workclass == \"?\"] <- mode(dados$workclass)\n",
        "dados$occupation[dados$occupation == \"?\"] <- mode(dados$occupation)\n",
        "dados$relationship[dados$relationship == \"?\"] <- mode(dados$relationship)\n",
        "dados$race[dados$race == \"?\"] <- mode(dados$race)\n",
        "dados$sex[dados$sex == \"?\"] <- mode(dados$sex)\n",
        "dados$\"marital\"[dados$\"marital\"  == \"?\"] <- mode(dados$\"marital\" )\n",
        "dados$\"country\"[dados$\"country\" == \"?\"] <- mode(dados$\"country\")\n",
        "\n",
        "# Criando novas colunas com base em dados categoricos\n",
        "dados <- dummy_cols(dados, select_columns = c(\"education\", \"occupation\", \"workclass\", \"relationship\", \"race\", \"sex\", \"marital\" ))\n",
        "\n",
        "dados <-  subset( dados, select = -education )\n",
        "dados <-  subset( dados, select = -occupation )\n",
        "dados <-  subset( dados, select = -workclass )\n",
        "dados <-  subset( dados, select = -relationship )\n",
        "dados <-  subset( dados, select = -race )\n",
        "dados <-  subset( dados, select = -sex )\n",
        "dados <-  subset( dados, select = -marital )\n",
        "\n",
        "# remove columnas que não conseguimos tratar\n",
        "# country -> gera mais de 50 colunas\n",
        "dados <-  subset( dados, select = -country )\n",
        "\n",
        "# Colocando Y como ultima coluna\n",
        "dados <- dados[c(8:67, 1:7)]\n",
        "\n",
        "str(dados)\n",
        "\n",
        "# Normalização dos dados com centralização da média em zero e escala em desvio padrão\n",
        "dados[c(1:66)] <- scale(dados[c(1:66)])\n",
        "\n",
        "# Balanceando o dataset pois a classe de renda é dividida em 75%/25% \n",
        "# Downsampling\n",
        "dados <- balance(dados, \"min\", cat_col = \"income\")\n",
        "\n",
        "# Aleatorizando os dados balanceados\n",
        "# Evitando problemas de overfit que a biblioteca provém\n",
        "dados <- dados[sample(nrow(dados)),]\n",
        "\n",
        "# Dados de treino \n",
        "tamanho <- 7841 # metade dos dados após o undersampling, dividimos em dois \n",
        "train_data <- dados[0:tamanho/2,]\n",
        "test_data <- dados[tamanho/2+1:tamanho,]\n",
        "\n",
        "Y <- as.matrix(train_data[c(67)])\n",
        "X <- train_data\n",
        "X$income <- NULL\n",
        "\n",
        "# Dados de teste \n",
        "Y_test <- as.matrix(test_data[c(67)])\n",
        "X_test <- test_data\n",
        "X_test$income <- NULL"
      ],
      "execution_count": null,
      "outputs": []
    },
    {
      "cell_type": "code",
      "metadata": {
        "id": "5XHkhAVfGJH4"
      },
      "source": [
        "head(X)"
      ],
      "execution_count": null,
      "outputs": []
    },
    {
      "cell_type": "code",
      "metadata": {
        "id": "e0JJgrA3gR1v"
      },
      "source": [
        "table(dados$income)"
      ],
      "execution_count": null,
      "outputs": []
    },
    {
      "cell_type": "code",
      "metadata": {
        "id": "sqxgYO-gGJkF"
      },
      "source": [
        "head(Y)"
      ],
      "execution_count": null,
      "outputs": []
    },
    {
      "cell_type": "code",
      "metadata": {
        "id": "QMY8bSTnhgdM"
      },
      "source": [
        "# RBF with least squares and pseudoinverse\n",
        "# Returns a RBF model, given:\n",
        "# * training instances x1...xN\n",
        "# * desired output values\n",
        "# * number of centers\n",
        "# * gamma value for the Gaussian function\n",
        "\n",
        "# We will need the corpcor package for the pseudoinverse\n",
        "install.packages('corpcor')\n",
        "library(corpcor)\n",
        "\n",
        "# RBF training function\n",
        "rbf <- function(X, Y, K=10, gamma=1.0) {\n",
        "\n",
        "\tN <- dim(X)[1] # number of training instances\n",
        "  ncols <- dim(X)[2] # number of features\n",
        "  \n",
        "  repeat {\n",
        "   \tkm <- kmeans(X, K)  # cluster data into K clusters\n",
        "   \tif (min(km$size)>0) # we can not allow empty clusters\n",
        "   \t\tbreak\n",
        "  }\n",
        "\n",
        "\tmus <- km$centers # centers of the clusters (means)\n",
        "  \n",
        "\t# Calculate the outputs of the Gaussian functions for all instances\n",
        "\tPhi <- matrix(rep(NA,(K+1)*N), ncol=K+1) # Phi will store all hidden outoputs + bias\n",
        "\tfor (lin in 1:N) {\n",
        "\t\tPhi[lin,1] <- 1    # column for the bias\n",
        "\t\tfor (col in 1:K) {\n",
        "      # Outputs of the Gaussian functions\n",
        "\t\t\tPhi[lin,col+1] <- exp( (-1/(2*gamma*gamma)) * sum((X[lin,]-mus[col,])*(X[lin,]-mus[col,])) )\n",
        "    }\n",
        "\t}\n",
        "\t\n",
        "\t# Calculate the weights using the pseudoinverse -> w = inverse(t(Phi) * Phi) * t(Phi) * Y \n",
        "\t# %*% is for matrix multiplication\n",
        "  w <- pseudoinverse(t(Phi) %*% Phi) %*% t(Phi) %*% Y\n",
        "\n",
        "  # Return the RBF model\n",
        "\treturn(list(weights=w, centers=mus, gamma=gamma))\n",
        "}\n"
      ],
      "execution_count": null,
      "outputs": []
    },
    {
      "cell_type": "code",
      "metadata": {
        "id": "k55jY_pklAjI"
      },
      "source": [
        "# Train the model using default values for K and gamma\n",
        "model <- rbf(X, Y, K=80)\n",
        "print(model)"
      ],
      "execution_count": null,
      "outputs": []
    },
    {
      "cell_type": "code",
      "metadata": {
        "id": "RXiEfHQslou7"
      },
      "source": [
        "# Implementing the function for prediction\n",
        "rbf.predict <- function(model, X, classification=FALSE) {\n",
        "  \n",
        "  # Parameters\n",
        "\tgamma   <- model$gamma\n",
        "\tcenters <- model$centers\n",
        "\tw       <- model$weights\n",
        "\tN       <- dim(X)[1]    # number of instances\n",
        "  \n",
        "  # Initialize the prediction vector using the weight associated to the bias,\n",
        "  # since the associate input is +1\n",
        "\tpred <- rep(w[1],N)\n",
        "\n",
        "\tfor (j in 1:N) {  \n",
        "\t\t# prediction for instance Xj\n",
        "\t\tfor (k in 1:length(centers[,1])) {\n",
        "\t\t\t# the weight associated to the center[k] is w[k+1] because\n",
        "      # w[1] is the weight associated with the bias \n",
        "      pred[j] <- pred[j] + w[k+1] * exp( (-1/(2*gamma*gamma)) * sum((X[j,]-centers[k,])*(X[j,]-centers[k,])) )\n",
        "    }\n",
        "  }\n",
        "  \n",
        "\t# If we are dealing with a classification task, \n",
        "  # applies the signal function to the output\n",
        "  if (classification) {\n",
        "    pred <- unlist(lapply(pred, sign))\n",
        "  }\n",
        "  \n",
        "  # Return the predictions\n",
        "\treturn(pred)\n",
        "}"
      ],
      "execution_count": null,
      "outputs": []
    },
    {
      "cell_type": "code",
      "metadata": {
        "id": "Px2EMzmRnz8i"
      },
      "source": [
        "# Make predictions for the test\n",
        "rbf.pred <- rbf.predict(model, X_test, classification=TRUE)"
      ],
      "execution_count": null,
      "outputs": []
    },
    {
      "cell_type": "code",
      "metadata": {
        "id": "g8l-lbU7xRF9"
      },
      "source": [
        "# Matrix de confusão entre os items\n",
        "table(rbf.pred,Y_test)\n",
        "\n",
        "predicted <- rbf.pred\n",
        "\n",
        "truth_predicted <- data.frame(\n",
        "  obs = as.vector(Y_test),\n",
        "  pred = as.vector(predicted)\n",
        ")\n",
        "\n",
        "truth_predicted$obs <- as.factor(truth_predicted$obs)\n",
        "truth_predicted$pred <- as.factor(truth_predicted$pred)\n",
        "\n",
        "cm <- conf_mat(truth_predicted, obs, pred)\n",
        "autoplot(cm, type = \"heatmap\") + scale_fill_gradient(low=\"#D6EAF8\",high = \"#2E86C1\") + theme(legend.position = \"right\")\n"
      ],
      "execution_count": null,
      "outputs": []
    },
    {
      "cell_type": "code",
      "metadata": {
        "id": "zV7m8eXMxUkq"
      },
      "source": [
        "# Erro médio\n",
        "error <- sum(rbf.pred != Y_test)/nrow(Y_test)\n",
        "print(error)"
      ],
      "execution_count": null,
      "outputs": []
    }
  ]
}